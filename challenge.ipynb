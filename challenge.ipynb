{
 "cells": [
  {
   "cell_type": "markdown",
   "id": "08678b43-e553-4b2b-8d92-441a035df76f",
   "metadata": {
    "jp-MarkdownHeadingCollapsed": true
   },
   "source": [
    "# IEEE Quantum Week Challenge: Transpilation and optimization using QAOA\n",
    "\n",
    "**Welcome to the IEEE Quantum week Challenge on optimizing QAOA transpilation!** In this 2-hour challenge, you'll explore the process of optimizing quantum circuits using Qiskit SDK's transpiler and Qiskit Transpiler service on a Quantum Approximate Optimization Algorithm (QAOA) cost function as the target workload.\n",
    "\n",
    "Your goal is to develop a custom transpiler workflow that can efficiently map QAOA circuits to a given quantum architecture, minimizing circuit depth and gate count while maintaining fidelity.\n",
    "\n",
    "This notebook is divided into two parts: **Beginner** and **Advanced**, each with specific learning objectives, coding challenges, and a grading mechanism to assess performance. Let's get started!\n"
   ]
  },
  {
   "cell_type": "markdown",
   "id": "38a87610-1e8e-4716-b297-26f3fcdc9894",
   "metadata": {},
   "source": [
    "# Table of Contents\n",
    "\n",
    "**Beginner Track**\n",
    "* [**Brief overview: Introduction to QAOA and Problem setting**](#Brief-Overview:-Introduction-to-the-Quantum-Approximate-Optimization-Algorithm-(QAOA))\n",
    "* [**Basic Transpilation with Preset Pass Manager**](#2.-Basic-Transpilation-with-Preset-Pass-Manager)\n",
    "    * [*Exercise 1*](#exercise_1)\n",
    "    * [**Customize Transpilation Settings**](#Step-2:-Customize-Transpilation-Settings)\n",
    "        * [*Exercise 2*](#exercise2)\n",
    "    * [**Transpiling Multiple Times for Best Results**](#3.-Tip:-Transpiling-Multiple-Times-for-Best-Results)\n",
    "        * [*Exercise 3*](#exercise3)\n",
    "* [**AI Assisted Transpilation**](#3.-AI-Assisted-Transpilation)\n",
    "    * [*Exercise 4*](#exercise4)\n",
    "* [**Diving Deeper into Transpilation Using Custom Pass Managers**](#3.Diving-Deeper-into-Transpilation-Using-Custom-Pass-Managers)\n",
    "* [**Final Challenge: Putting It All Together**](#Applying-High-Impact-Passes-Using-Custom-and-Staged-Pass-Managers)\n",
    "    * [*Exercise 5*](#exercise5)\n",
    " \n",
    "**Advanced Track**\n",
    "* [**Advanced Track: Deep Dive into Custom Transpilation Strategies**](#Advanced-Track:-Deep-Dive-into-Custom-Transpilation-Strategies)\n",
    "* [**Example: Custom optimal pass for QAOA**](#6.-Example:-Custom-optimal-pass-for-QAOA)\n",
    "    * [*Exercise 6: Grand Finale*](#Exercise-6:-Grand-Finale)"
   ]
  },
  {
   "cell_type": "code",
   "execution_count": null,
   "id": "9c571e68-9c92-4bfb-897b-ae2db357e360",
   "metadata": {},
   "outputs": [],
   "source": [
    "# Imports\n",
    "from colorama import Fore, Style\n",
    "from grader import grade_ex1, grade_ex2, grade_ex3, grade_ex4, grade_ex5, grade_ex6, score_func"
   ]
  },
  {
   "cell_type": "markdown",
   "id": "9a75e232-dbfe-420c-814f-5fe977f154ce",
   "metadata": {},
   "source": [
    "# Brief Overview: Introduction to the Quantum Approximate Optimization Algorithm (QAOA)\n",
    "\n",
    "## Quick Intro: What is QAOA?\n",
    "\n",
    "The Quantum Approximate Optimization Algorithm (QAOA) is a quantum algorithm designed to tackle combinatorial optimization problems. These are problems where the goal is to find the optimal solution from a set of finite possible outcomes which are often encountered in tasks like routing, scheduling, or resource allocation. QAOA operates by applying quantum operations that approximate the optimal solution, making it a promising approach for potentially solving these problems efficiently on near-term quantum computers.\n",
    "\n",
    "### Key Components of QAOA\n",
    "\n",
    "QAOA works by encoding the problem into a quantum circuit that evolves through a series of unitary operations. The algorithm iteratively adjusts these operations to find the optimal solution. The two main components of QAOA are:\n",
    "\n",
    "1. **Cost Function Hamiltonian (HC):** This is the problem-specific part of the circuit that encodes the objective function of the optimization problem. The goal of the QAOA is to find the parameters that minimize the expectation value of the cost function, driving the quantum system towards the optimal solution.\n",
    "\n",
    "2. **Mixer Hamiltonian (HM):** This component of the circuit drives the exploration of the solution space. It typically uses single-qubit rotations that evolve the quantum state away from an initial, easily prepared state.\n",
    "\n",
    "In this notebook, we will focus on optimizing the **cost function circuit** of QAOA. The cost function circuit is crucial because it directly relates to the problem you want to solve. Specifically, the circuit is constructed to reflect the objective function of your optimization problem.\n"
   ]
  },
  {
   "cell_type": "markdown",
   "id": "e6237015-01f0-4240-8ef0-911db6da0b6d",
   "metadata": {},
   "source": [
    "\n",
    "### Why Optimize the Cost Function Circuit?\n",
    "\n",
    "Optimizing the cost function circuit is crucial because it directly impacts the performance and accuracy of QAOA. The circuit’s depth and the number of gates can significantly affect the algorithm's ability to find the optimal solution, especially on noisy quantum hardware. By applying optimization techniques during the transpilation process, we can reduce the circuit's complexity, making it more suitable for execution on real quantum devices.\n",
    "\n",
    "In this notebook, we will use Qiskit SDK's transpiler to optimize the cost function circuit of QAOA, starting with a basic implementation and gradually incorporating more advanced transpilation techniques and customizing our workflow.\n",
    "\n",
    "Now, let's move on to implementing and optimizing the cost function circuit of QAOA using Qiskit SDK's Transpiler!"
   ]
  },
  {
   "cell_type": "markdown",
   "id": "8225b706-6313-4e42-a5e0-e00a2211370f",
   "metadata": {},
   "source": [
    "## 1. Problem setting - Example: Max-Cut Problem\n",
    "\n",
    "As a concrete example, we'll start our workflow with a graph that represents a hypothetical max-cut problem, where the goal is to divide this graph into two sets such that the number of edges between the sets is maximized. The cost function Hamiltonian for our hypothetical Max-Cut problem is formulated as:\n",
    "\n",
    "$$ H_C = \\sum_{(i,j) \\in E} \\frac{1}{2} (1 - Z_i Z_j) $$\n",
    "\n",
    "Here, $Z_i$ and $Z_j$ are Pauli-Z operators acting on qubits $i$ and $j$, and $E$ represents the set of edges in the graph. The cost function circuit for the Max-Cut problem thus involves a series of entangling gates (e.g., $RZZ$ gates defined as: $\\text{RZZ}(\\gamma) = e^{-i \\gamma Z_i Z_j / 2}$  where $\\gamma$ is a parameter to be optimized) that correspond to the edges in the graph. \n"
   ]
  },
  {
   "cell_type": "code",
   "execution_count": null,
   "id": "dc3414fd-fc6e-4fe9-b275-4a80fea02cf3",
   "metadata": {},
   "outputs": [],
   "source": [
    "from networkx import barabasi_albert_graph, draw\n",
    "\n",
    "graph = barabasi_albert_graph(n=50, m=7, seed=42)"
   ]
  },
  {
   "cell_type": "code",
   "execution_count": null,
   "id": "a84c1fc0-077d-458e-bb30-b919a8300f5e",
   "metadata": {},
   "outputs": [],
   "source": [
    "draw(graph, with_labels=True)"
   ]
  },
  {
   "cell_type": "markdown",
   "id": "18375b65-f2a5-45ed-a9cb-e54c313eb10a",
   "metadata": {},
   "source": [
    "The graph above corresponds to the following operators:"
   ]
  },
  {
   "cell_type": "code",
   "execution_count": null,
   "id": "417a3020-08ed-4960-9943-930f8a836908",
   "metadata": {
    "scrolled": true
   },
   "outputs": [],
   "source": [
    "from utils import build_max_cut_paulis\n",
    "from qiskit.quantum_info import SparsePauliOp\n",
    "\n",
    "local_correlators = build_max_cut_paulis(graph)\n",
    "cost_operator = SparsePauliOp.from_list(local_correlators)\n",
    "print(cost_operator)"
   ]
  },
  {
   "cell_type": "markdown",
   "id": "56e48564-f65a-4a17-81b3-33c977bb1f5b",
   "metadata": {},
   "source": [
    "## Constructing the Cost Function Circuit for a Simple Graph\n",
    "\n",
    "Let’s construct the cost function circuit for this example. This operator maps to a 50 qubit QAOA circuit:"
   ]
  },
  {
   "cell_type": "code",
   "execution_count": null,
   "id": "f0611228-9869-47aa-96c3-5142e616e0db",
   "metadata": {},
   "outputs": [],
   "source": [
    "num_qubits = cost_operator.num_qubits\n",
    "print(num_qubits)"
   ]
  },
  {
   "cell_type": "markdown",
   "id": "7e2a4322-9261-4669-b874-676ab48a7bb2",
   "metadata": {},
   "source": [
    "Now lets build QAOA circuit/ansatz. We will use the `QAOAAnsatz` fucntion in Qiskit to define it for us."
   ]
  },
  {
   "cell_type": "code",
   "execution_count": null,
   "id": "8f783115-4f31-4904-abbe-902f7b1399a1",
   "metadata": {},
   "outputs": [],
   "source": [
    "from qiskit import QuantumCircuit\n",
    "from qiskit.circuit.library import QAOAAnsatz\n",
    "from qiskit.circuit import ParameterVector\n",
    "\n",
    "# We are taking advantage of the QAOAAnsatz class to build the cost layer, \n",
    "# note that we are giving it dummy initial state and mixer circuits.\n",
    "\n",
    "dummy_initial_state = QuantumCircuit(num_qubits)  # the real initial state is defined later\n",
    "dummy_mixer_operator = QuantumCircuit(num_qubits)  # the real mixer is defined later\n",
    "\n",
    "# Use off-the-shelf qiskit QAOAAnsatz\n",
    "cost_layer = QAOAAnsatz(\n",
    "    cost_operator,\n",
    "    reps=1,\n",
    "    initial_state=dummy_initial_state,\n",
    "    mixer_operator=dummy_mixer_operator,\n",
    "    name=\"QAOA cost block\",\n",
    ")\n",
    "\n",
    "cost_layer.draw(\"mpl\", fold=-1, scale=0.5)"
   ]
  },
  {
   "cell_type": "markdown",
   "id": "e94c9e27-847b-4e83-9a15-5c0d0e91a64e",
   "metadata": {},
   "source": [
    "## 2. Basic Transpilation with Preset Pass Manager\n",
    "\n",
    "### Why Transpilation?\n",
    "\n",
    "In quantum computing, a quantum circuit is a sequence of quantum gates applied to qubits to perform a computation. However, the circuit you initially design isn't always optimal for execution on a real quantum computer. This is where **transpilation** comes in.\n",
    "\n",
    "**Transpilation** is the process of transforming a quantum circuit into an equivalent one that is optimized for a specific quantum device. This optimization process involves several steps, such as reducing the circuit depth (the number of gate layers), minimizing the number of gates, and mapping the logical qubits in your circuit to the physical qubits on the quantum hardware.\n",
    "\n",
    "When you design a quantum circuit the abstract form that doesn't consider the limitations of real quantum hardware. To run this circuit on an actual quantum device, it must be transformed to match the topology (connectivity) and gate set of the device. Transpilation accomplishes this by:\n",
    "\n",
    "1. **Matching the Topology:** Ensuring that the logical qubits in your circuit are mapped to the physical qubits on the device in a way that respects the hardware's connectivity constraints.\n",
    "2. **Optimizing Instructions:** Rewriting the circuit's instructions to use only the gates supported by the device (Instruction Set Architecture) and minimizing the circuit's depth and gate count to reduce the effects of noise.\n",
    "\n",
    "### Transpilation Stages\n",
    "\n",
    "The process of transpilation in Qiskit is divided into several key stages, each designed to address different aspects of circuit optimization:\n",
    "\n",
    "1. **`init`:** This stage involves preparing the circuit by converting any custom instructions into single- and two-qubit gates, which are standard types of gates that the QPU can execute. This step also validates the circuit's instructions.\n",
    "\n",
    "2. **`layout`:** During this stage, the virtual qubits in your circuit are mapped to the physical qubits on the QPU. This mapping is crucial because it determines how the qubits interact with each other based on the device's connectivity.\n",
    "\n",
    "3. **`routing`:** After applying the layout, the circuit may need additional gates (such as SWAP gates) to ensure that qubits can interact according to the device's coupling map. This stage injects these gates to maintain the circuit's logical structure while adhering to the hardware's connectivity.\n",
    "\n",
    "4. **`translation`:** In this stage, the circuit's gates are translated into the specific set of instructions (basis gates) that the QPU can execute. This ensures that the circuit is compatible with the device's Instruction Set Architecture (ISA).\n",
    "\n",
    "5. **`optimization`:** This stage involves applying various optimization passes to reduce the circuit's depth and gate count. The goal is to find more efficient ways to represent the circuit that minimize the potential for errors and noise during execution.\n",
    "\n",
    "6. **`scheduling`:** The final stage is scheduling, which organizes the execution of the circuit's instructions to account for idle times and other hardware constraints. This stage is particularly important for optimizing circuits on near term devices.\n",
    "\n",
    "For more details on the specifics of each of these stages, **check out this documentation link on [IBM Quantum Documentation](https://docs.quantum.ibm.com/guides/transpiler-stages)**\n",
    "\n",
    "Let’s now select a target IBM Quantum backend from the Qiskit Runtime service to optimize our circuits. The backend target we are selecting is `ibm_torrino`"
   ]
  },
  {
   "cell_type": "code",
   "execution_count": null,
   "id": "4c4c7d20-1db4-4e0d-b621-ab07e80e0828",
   "metadata": {},
   "outputs": [],
   "source": [
    "from qiskit_ibm_runtime import QiskitRuntimeService\n",
    "\n",
    "# QiskitRuntimeService.save_account(\n",
    "#     channel=\"ibm_quantum\",\n",
    "#     token=\"\",\n",
    "#     set_as_default=True,\n",
    "#     # Use `overwrite=True` if you're updating your token.\n",
    "#     overwrite=True,\n",
    "# )\n",
    " \n",
    "# Load saved credentials\n",
    "service = QiskitRuntimeService(channel=\"ibm_quantum\")"
   ]
  },
  {
   "cell_type": "code",
   "execution_count": null,
   "id": "588573a4-c08f-4e45-9dfb-81833c06e4f3",
   "metadata": {},
   "outputs": [],
   "source": [
    "# Select backend\n",
    "backend = service.backend(\"ibm_torino\")"
   ]
  },
  {
   "cell_type": "code",
   "execution_count": null,
   "id": "b9f04b73-16d2-4776-a2e7-059a2911d67c",
   "metadata": {},
   "outputs": [],
   "source": [
    "from qiskit.visualization import plot_gate_map, plot_error_map\n",
    "plot_error_map(backend)"
   ]
  },
  {
   "cell_type": "markdown",
   "id": "166028b4-2873-4065-959c-7d6108598a79",
   "metadata": {},
   "source": [
    "### Using Preset Pass Managers\n",
    "\n",
    "Qiskit provides a convenient way to perform transpilation through **preset pass managers** using [`generate_preset_pass_manager`](https://docs.quantum.ibm.com/guides/defaults-and-configuration-options). These are predefined sets of transpilation passes that optimize the circuit to varying degrees depending on the selected **optimization level**:\n",
    "\n",
    "- **Level 0:** *[No Optimization]* - Basic translation with trivial qubit mapping and no optimizations, primarily for hardware characterization.\n",
    "- **Level 1:** *[Light Optimization]* - Reduces gate count and simplifies the circuit with minimal compile time, using basic layout and gate optimization.\n",
    "- **Level 2:** *[Medium Optimization]* - Applies more sophisticated heuristic-based optimizations to further reduce circuit complexity.\n",
    "- **Level 3:** *[High Optimization]* - Performs the most extensive optimizations, including advanced gate resynthesis and in-depth layout adjustments.\n",
    "\n",
    "Each optimization level offers a different balance between the quality of the optimized circuit and the time it takes to transpile. Higher levels generally produce better-optimized circuits but require more time to complete.\n",
    "\n",
    "In this section, you will apply a preset pass manager to the QAOA cost function circuit designed to solve the Max-Cut problem. Initially, the circuit will be in its raw form, containing standard quantum gates like Hadamard and CNOT. By applying different levels of optimization, you will observe how the circuit is transformed into a more hardware-efficient version that uses gates supported by the chosen backend, such as RZ, X, SX, and ECR gates."
   ]
  },
  {
   "cell_type": "code",
   "execution_count": null,
   "id": "e45bcc55-47ac-4feb-a76b-08dafc6d658a",
   "metadata": {
    "scrolled": true
   },
   "outputs": [],
   "source": [
    "# Pre-transpilation circuit\n",
    "print(cost_layer.decompose().count_ops())"
   ]
  },
  {
   "cell_type": "markdown",
   "id": "331335de-6452-4b23-b7b9-ba9d49adb3cf",
   "metadata": {},
   "source": [
    "<a id=\"exercise_1\"></a>\n",
    "<div class=\"alert alert-block alert-success\">\n",
    "    \n",
    "<b> Exercise 1: Explore Transpilation Levels</b> \n",
    "\n",
    "Now that you understand the basics of transpilation and the role of preset pass managers, it’s time to put this knowledge into practice. <b>Try transpiling the QAOA circuit you created earlier using `generate_preset_pass_manager` and explore different `optimization_levels`.</b> Observe how the circuit changes and consider which level of optimization provides the best balance between transpilation time and circuit efficiency for your specific problem.\n",
    "</div> "
   ]
  },
  {
   "cell_type": "code",
   "execution_count": null,
   "id": "e6a17b33-c002-4586-b409-b1a4dce4f75c",
   "metadata": {},
   "outputs": [],
   "source": [
    "# Import necessary libraries\n",
    "import time\n",
    "from qiskit.transpiler.preset_passmanagers import generate_preset_pass_manager\n",
    "\n",
    "### Write your code below here ###\n",
    "\n",
    "pm_ex1 = \n",
    "\n",
    "### Don't change any code past this line ###\n",
    "\n",
    "###############  Measure the start time of the transpilation process\n",
    "t0 = time.time()\n",
    "\n",
    "# Run the pass manager to transpile the QAOA cost layer circuit\n",
    "naively_transpiled_qaoa = pm_ex1.run(cost_layer)\n",
    "\n",
    "# Measure the end time of the transpilation process\n",
    "t1 = time.time()\n",
    "\n",
    "# Print the total transpilation time\n",
    "print(f\"Transpilation time: {t1 - t0:.2f} (s)\")"
   ]
  },
  {
   "cell_type": "code",
   "execution_count": null,
   "id": "acf179b7-25f0-45e6-8830-9c5a8b8b6382",
   "metadata": {},
   "outputs": [],
   "source": [
    "# Extract information from the transpiled circuit\n",
    "circuit = naively_transpiled_qaoa\n",
    "\n",
    "# Output various metrics about the transpiled circuit\n",
    "print(f'Count Ops: {circuit.count_ops()}')\n",
    "print(f'Total circuit depth: {circuit.depth()}')\n",
    "print(f'Number of 2-qubit gates: {circuit.size(lambda x: x.operation.num_qubits == 2)}')\n",
    "\n",
    "# Output the score and depth specifically for 2-qubit gates, in color\n",
    "print(Fore.MAGENTA + Style.BRIGHT + f'2-qubit gate depth: {circuit.depth(lambda x: x.operation.num_qubits == 2)}')\n",
    "print(Fore.GREEN + f'Score: {score_func(circuit)}')"
   ]
  },
  {
   "cell_type": "markdown",
   "id": "248ec531-04e3-4b93-b21f-8f306f5dcb16",
   "metadata": {},
   "source": [
    "<a id=\"scoring_func\"></a>\n",
    "<div class=\"alert alert-block alert-info\">\n",
    "    \n",
    "⚠️ **About the scoring function** \n",
    "\n",
    "The scoring function evaluates your transpiled circuit based on its depth and gate usage, focusing on optimizing two-qubit gates, which are more resource-intensive on quantum hardware. It first checks if the circuit only uses the backend's basis gates and conforms to its qubit connectivity. If either check fails, a high penalty score is applied. Otherwise, the score is calculated by summing the depth of two-qubit gates and a reduced weight of single-qubit gates as follows:\n",
    "\n",
    "$$score = n_{\\text{2Q gate depth}} + n_{\\text{1Q gate depth}}/10$$\n",
    "\n",
    "**The goal is to minimize the score. Lower scores indicate more efficient circuits and higher circuit fidelity, so strive for optimization!** </div>"
   ]
  },
  {
   "cell_type": "code",
   "execution_count": null,
   "id": "f5137ab3-5097-4e5e-bf91-4e0040afc2de",
   "metadata": {
    "scrolled": true
   },
   "outputs": [],
   "source": [
    "# Run this cell to grade your answer\n",
    "grade_ex1(pm_ex1, backend)"
   ]
  },
  {
   "cell_type": "markdown",
   "id": "063ed2e8-5906-432e-814b-a6fa907408f0",
   "metadata": {},
   "source": [
    "<div class=\"alert alert-block alert-warning\">\n",
    "    \n",
    "⚠️ **Please note** \n",
    "\n",
    "While transpiling a circuit multiple times can lead to better optimization outcomes, it's important to be mindful of scalability issues. Transpiling multiple times can significantly increase the total runtime, especially for large circuits. This method is more appropriate for smaller circuits or when higher levels of optimization are essential. Additionally, each transpilation pass involves computational overhead, and for larger circuits or when scaling to many circuits, performing multiple trials could potentially result in workflow being inefficient and unscalable.\n",
    "</div>"
   ]
  },
  {
   "cell_type": "markdown",
   "id": "f63571c1-5f18-412c-8c76-1664c164b7d8",
   "metadata": {},
   "source": [
    "### Customize Transpilation Settings\n",
    "\n",
    "Next, consider customizing some of the parameters available in the `generate_preset_pass_manager` function to see how they affect the transpilation process. You can adjust settings related to the circuit's `init`, `layout`, `routing`, `translation`, `optimization`, and `scheduling` stages.\n",
    "\n",
    "Explore changing parameters pertaining to the transpilation stages and observe how these changes impact circuit metrics:\n",
    "\n",
    "- **Init Stage:** Customize the synthesis algorithms with hls_config, select a different initialization plugin using `init_method`, or adjust the unitary synthesis method with `unitary_synthesis_method` and `unitary_synthesis_plugin_config`.\n",
    "- **Layout Stage:** Modify the `layout_method` to change how the initial layout of qubits is selected. Options include `trivial`, `dense`, `noise_adaptive`, or `sabre`.\n",
    "- **Routing Stage:** Adjust the `routing_method` to influence how qubits are swapped during the circuit execution. Options include `basic`, `lookahead`, `stochastic`, `sabre`, or `none`.\n",
    "- **Translation Stage:** Experiment with the translation_method to determine how the circuit is converted to the backend’s native gate set, choosing between `translator` or `synthesis`.\n",
    "- **Optimization Stage:** Experiment with the `approximation_degree` to trade off accuracy for gate reduction. You can set it to a value between `0.0` (maximal approximation) and `1.0` (no approximation), or `None` to automatically match the error rate.\n",
    "- **Scheduling Stage:** Control the timing of gate execution with the scheduling_method, selecting either `as_soon_as_possible` (ASAP) or `as_late_as_possible` (ALAP)\n",
    "\n",
    "You can learn more about these options here in the documentation [here](https://docs.quantum.ibm.com/guides/defaults-and-configuration-options)"
   ]
  },
  {
   "cell_type": "markdown",
   "id": "8be73f78-920e-43ce-be98-930a59fe2caa",
   "metadata": {},
   "source": [
    "**Debugging tip:** When customizing transpilation settings, it can be extremely helpful to print out the list of passes that will be applied. This allows you to verify that your custom passes are being included in the correct order and that no unwanted default passes are being added. You can do this by adding a callback function as below:"
   ]
  },
  {
   "cell_type": "code",
   "execution_count": null,
   "id": "b66cd1d0-1dd7-4081-b1c9-124b24299be3",
   "metadata": {
    "scrolled": true
   },
   "outputs": [],
   "source": [
    "def callback_func(pass_, dag, time, property_set, count):\n",
    "    print(f\"PASS {count}: {pass_.name()} in {time}\")\n",
    "    print(f\"ops: {dag.count_ops()}\")\n",
    "    print(f\"dep: {dag.depth()}\")\n",
    "    print(f\"========\")"
   ]
  },
  {
   "cell_type": "markdown",
   "id": "1e6901db-a091-46a3-9631-d1264d2e825c",
   "metadata": {},
   "source": [
    "Examining the pass list helps you understand exactly how your circuit is being transpiled and can be invaluable for troubleshooting unexpected results or optimizing the transpilation process. If you notice passes that shouldn't be there or passes missing that you expected, you can adjust your [`generate_preset_pass_manager`](https://docs.quantum.ibm.com/api/qiskit/0.42/qiskit.transpiler.preset_passmanagers.generate_preset_pass_manager) configuration accordingly.\n",
    "\n",
    "Experiment with modifying parameters associated with the transpilation stages to observe their impact on your circuit metrics:"
   ]
  },
  {
   "cell_type": "markdown",
   "id": "c273fe74-7981-4fdc-bf20-1bc09ab194cb",
   "metadata": {
    "jp-MarkdownHeadingCollapsed": true
   },
   "source": [
    "<a id=\"exercise2\"></a>\n",
    "<div class=\"alert alert-block alert-success\">\n",
    "    \n",
    "<b> Exercise 2: Explore Transpilation options</b> \n",
    "\n",
    "In this exercise, you'll dive deeper into the transpilation process by customizing key parameters using the [`generate_preset_pass_manager`](https://docs.quantum.ibm.com/api/qiskit/0.42/qiskit.transpiler.preset_passmanagers.generate_preset_pass_manager) function. Experiment with different stages of transpilation, such as `init`, `layout`, `routing`, `translation`, `optimization`,`scheduling` as well as explore the different attirbutes of the `generate_preset_pass_manager`. By modifying these parameters, you can observe how they affect the performance and characteristics of your quantum circuit. Aim to get a lower gate depth (Total or 2 qubit gate depth) than the default transpilation options</div> "
   ]
  },
  {
   "cell_type": "code",
   "execution_count": null,
   "id": "c1c0baab-9c2f-4051-b2da-f3ebde70c90a",
   "metadata": {},
   "outputs": [],
   "source": [
    "# Feel free to play around with these options\n",
    "\n",
    "### Write your code below here ###\n",
    "\n",
    "pm_ex2 = generate_preset_pass_manager(\n",
    "    optimization_level=None,\n",
    "    backend=backend,\n",
    "    instruction_durations=None,\n",
    "    initial_layout=None,\n",
    "    layout_method=None,\n",
    "    routing_method=None,\n",
    "    translation_method=None,\n",
    "    scheduling_method=None,\n",
    "    approximation_degree=None,\n",
    "    seed_transpiler=None,\n",
    "    unitary_synthesis_method=None,\n",
    "    unitary_synthesis_plugin_config=None,\n",
    "    hls_config=None,\n",
    "    init_method=None,\n",
    "    optimization_method=None,\n",
    ")\n",
    "\n",
    "### Don't change any code past this line ###\n"
   ]
  },
  {
   "cell_type": "code",
   "execution_count": null,
   "id": "1d912d26-7682-419c-8931-f598fe6fd054",
   "metadata": {
    "scrolled": true
   },
   "outputs": [],
   "source": [
    "import time\n",
    "from qiskit.transpiler.preset_passmanagers import generate_preset_pass_manager\n",
    "\n",
    "###############  Measure the start time of the transpilation process\n",
    "t0 = time.time()\n",
    "\n",
    "# Run the pass manager to transpile the QAOA cost layer circuit\n",
    "naively_custom_transpiled_qaoa = pm_ex2.run(cost_layer, callback=callback_func)\n",
    "\n",
    "# Measure the end time of the transpilation process\n",
    "t1 = time.time()\n",
    "\n",
    "# Print transpilation time\n",
    "print(f\"Transpilation time: {t1 - t0} (s)\")"
   ]
  },
  {
   "cell_type": "code",
   "execution_count": null,
   "id": "f7e90583-5de9-4952-b9d7-9066f6157336",
   "metadata": {},
   "outputs": [],
   "source": [
    "# Extract information from the transpiled circuit\n",
    "circuit = naively_custom_transpiled_qaoa\n",
    "\n",
    "# Output various metrics about the transpiled circuit\n",
    "print(f'Count Ops: {circuit.count_ops()}')\n",
    "print(f'Total circuit depth: {circuit.depth()}')\n",
    "print(f'Number of 2-qubit gates: {circuit.size(lambda x: x.operation.num_qubits == 2)}')\n",
    "\n",
    "# Output the score and depth specifically for 2-qubit gates, in color\n",
    "print(Fore.MAGENTA + Style.BRIGHT + f'2-qubit gate depth: {circuit.depth(lambda x: x.operation.num_qubits == 2)}')\n",
    "print(Fore.GREEN + f'Score: {score_func(circuit)}')"
   ]
  },
  {
   "cell_type": "code",
   "execution_count": null,
   "id": "0275a743-4e7b-46aa-b760-30faa6564a99",
   "metadata": {},
   "outputs": [],
   "source": [
    "# Run this cell to grade your answer\n",
    "grade_ex2(pm_ex2, backend)"
   ]
  },
  {
   "cell_type": "markdown",
   "id": "77efb949-cae6-46e2-90cd-081a726c1c89",
   "metadata": {},
   "source": [
    "\n",
    "### 3. Tip: Transpiling Multiple Times for Best Results\n",
    "When working with quantum circuits, the process of transpilation involves many stochastic passes, which means the results can vary each time you transpile the same circuit. In practice, running the transpiler multiple times may lead to better results in terms of circuit depth, gate count, and overall optimization. This is because some of the randomization involved in the transpilation process might occasionally yield a more efficient circuit layout or routing. One effective method to achieve more predictable outcomes is to use the `seed_transpiler` option. By varying a seed, you can control the randomization of the transpilation process, making it easier to reproduce and compare results.\n",
    "\n",
    "Perform the process multiple times and keep the best outcome based on your chosen metric (e.g., minimal gate count, execution time). This can be achieved by running a loop over several transpilation attempts, each with a fixed seed, and selecting the most optimized circuit.\n",
    "\n",
    "#### Try transpiling the circuit multiple times to observe variations in the results and choose the most optimal one.\n",
    "\n",
    "Here’s an example where we transpile a circuit multiple times, each time storing the result and comparing the transpiled circuits based on gate count:\n",
    "\n"
   ]
  },
  {
   "cell_type": "markdown",
   "id": "7e67ba5e-dbbe-458c-9bf1-92582a7362a5",
   "metadata": {},
   "source": [
    "<div class=\"alert alert-block alert-danger\">\n",
    "    \n",
    "⚠️ **Disclaimer on using this strategy:** \n",
    "\n",
    "While transpiling a circuit multiple times can lead to better optimization outcomes, it's important to be mindful of scalability issues. Transpiling multiple times can significantly increase the total runtime, especially for large circuits. This method is more appropriate for smaller circuits or when higher levels of optimization are essential. Additionally, each transpilation pass involves computational overhead, and for larger circuits or when scaling to many circuits, performing multiple trials could potentially result in workflow being inefficient and unscalable.\n",
    "</div>"
   ]
  },
  {
   "cell_type": "markdown",
   "id": "c48f4198-e362-4a81-a62f-66923b849088",
   "metadata": {},
   "source": [
    "<a id=\"exercise2\"></a>\n",
    "<div class=\"alert alert-block alert-success\">\n",
    "    \n",
    "<b> Exercise 3: Transpile Multiple times</b> \n",
    "It's time to explore the impact of running the transpiler multiple times. For this exercise, transpile the same circuit multiple times, and aim to achieve an optimized version by selecting the best result from these attempts\n",
    "</div>"
   ]
  },
  {
   "cell_type": "code",
   "execution_count": null,
   "id": "11426d7b-f144-4172-8ca7-fa2458ee3d2c",
   "metadata": {
    "scrolled": true
   },
   "outputs": [],
   "source": [
    "import time\n",
    "from colorama import Fore, Style  # Ensure colorama is imported for colored output\n",
    "\n",
    "# Initialize the depth to a large number for comparison\n",
    "depth = 2000\n",
    "\n",
    "# Record the starting time of the transpilation process\n",
    "t0 = time.time()\n",
    "\n",
    "### Write your code below here ###\n",
    "\n",
    "# Hint: Loop over a range of seeds to find the best transpilation result\n",
    "\n",
    "\n",
    "seed_selected = \n",
    "\n",
    "### Don't change any code past this line ###\n",
    "\n",
    "###############  Measure the start time of the transpilation process\n",
    "t1 = time.time()\n",
    "\n",
    "# Output the selected seed that resulted in the best transpilation result\n",
    "print(f'Seed selected: {seed_selected}')\n",
    "\n",
    "# Use the circuit with the best depth\n",
    "circuit = circuit_routed\n",
    "\n",
    "# Print transpilation time\n",
    "print(f\"Transpilation time: {t1 - t0} (s)\")\n",
    "\n",
    "# Output various metrics about the transpiled circuit\n",
    "print(f'Count Ops: {circuit.count_ops()}')\n",
    "print(f'Total circuit depth: {circuit.depth()}')\n",
    "print(f'Number of 2-qubit gates: {circuit.size(lambda x: x.operation.num_qubits == 2)}')\n",
    "\n",
    "# Output the score and depth specifically for 2-qubit gates, in color\n",
    "print(Fore.MAGENTA + Style.BRIGHT + f'2-qubit gate depth: {circuit.depth(lambda x: x.operation.num_qubits == 2)}')\n",
    "print(Fore.GREEN + f'Score: {score_func(circuit)}')"
   ]
  },
  {
   "cell_type": "code",
   "execution_count": null,
   "id": "ac0c6432-ef38-407f-8c2b-b3824867736e",
   "metadata": {},
   "outputs": [],
   "source": [
    "# Run this cell to grade your answer\n",
    "pm_ex3 = generate_preset_pass_manager(backend=backend, optimization_level=3, seed_transpiler=seed_selected)\n",
    "grade_ex3(pm_ex3, backend)"
   ]
  },
  {
   "cell_type": "markdown",
   "id": "399ac601-ce82-4dd8-9fd8-d3bce072b45d",
   "metadata": {},
   "source": [
    "## 4. AI-Assisted Transpilation\n",
    "\n",
    "### Leveraging AI in Transpilation\n",
    "\n",
    "For this section, we are providing you with beta access to the Qiskit Transpiler Service to experiment and explore the cutting-edge capabilities of AI-powered transpiler passes in Qiskit. With the recent beta release of the Qiskit Transpiler Service, you can now leverage AI and IBM Cloud&reg; resources to optimize your quantum circuits more efficiently.\n",
    "\n",
    "In this step, you'll transpile and optimize your circuit using the Qiskit Transpiler Service. We will be using the Qiskit Transpiler Service for this section. The Qiskit Transpiler Service provides both heuristic and AI-powered transpilation capabilities on the cloud. We can leverage running transpilation tasks to benefit from IBM Quantum™ cloud resources and advanced AI-powered transpiler passes. **For more information, refer to the Qiskit Transpiler Service documentation [here](https://docs.quantum.ibm.com/transpile/qiskit-transpiler-service)**\n"
   ]
  },
  {
   "cell_type": "markdown",
   "id": "8250b166-164c-402f-ba12-b1cd17210818",
   "metadata": {},
   "source": [
    "<div class=\"alert alert-block alert-danger\">\n",
    "\n",
    "Please note, **these features are in beta**. Have fun experimenting and pushing the boundaries of quantum development and let us know if you have any feedback on how to make this tool better!\n",
    "\n",
    "</div>"
   ]
  },
  {
   "cell_type": "markdown",
   "id": "4416d4bd-01d8-462b-8c29-920692d3e202",
   "metadata": {},
   "source": [
    "<a id=\"exercise4\"></a>\n",
    "<div class=\"alert alert-block alert-success\">\n",
    "    \n",
    "<b> Exercise 4: Exploring AI-powered transpilation</b> \n",
    "\n",
    "In this exercise, you'll use the Qiskit Transpiler service with AI-powered transpilation. First, ensure you have the latest version of the Qiskit Transpiler Service installed. Continue using the `ibm_sherbrooke` backend and create a new transpiler configuration with `optimization_level` 3 and the AI flag enabled (use `ai=True`). Transpile your quantum circuit using this new configuration and compare the results (gate count, depth) with your previous transpilation. \n",
    "\n",
    "**For an additional challenge**, experiment embedding AI-Powered passes like `AIRouting`, `AICliffordSynthesis`, `AILinearFunctionSynthesis` and `AIPermutationSynthesis` using PassManagers. Documentation for the same can be found [here.](https://docs.quantum.ibm.com/guides/ai-transpiler-passes)\n",
    "</div> \n"
   ]
  },
  {
   "cell_type": "code",
   "execution_count": null,
   "id": "26fa16a4-9214-4cda-b258-b7a5a65f24d8",
   "metadata": {},
   "outputs": [],
   "source": [
    "# The transpiler service uses token from your QiskitRuntimeService.\n",
    "\n",
    "# QiskitRuntimeService.save_account(\n",
    "#     channel=\"ibm_quantum\",\n",
    "#     token=\"\",\n",
    "#     set_as_default=True,\n",
    "#     # Use `overwrite=True` if you're updating your token.\n",
    "#     overwrite=True,\n",
    "# )\n",
    " \n",
    "# Load saved credentials\n",
    "service = QiskitRuntimeService(channel=\"ibm_quantum\")"
   ]
  },
  {
   "cell_type": "code",
   "execution_count": null,
   "id": "983bec77-6f4c-4404-988a-3df883876e4e",
   "metadata": {},
   "outputs": [],
   "source": [
    "# Setting up the Transpiler service\n",
    "from qiskit_ibm_transpiler import TranspilerService\n",
    "\n",
    "### Write your code below here ###\n",
    "\n",
    "ts_ex4 = \n",
    "\n",
    "### Don't change any code past this line ###\n",
    "\n",
    "\n",
    "###############  Measure the start time of the transpilation process\n",
    "t0_ai_transpiled = time.time()\n",
    "\n",
    "# Run the pass manager to transpile the QAOA cost layer circuit\n",
    "circuit_ai_transpiled = ts_ex4.run(cost_layer)\n",
    "\n",
    "# Measure the end time of the transpilation process\n",
    "t1_ai_transpiled  = time.time()\n",
    "time_with_ai = t1_ai_transpiled - t0_ai_transpiled"
   ]
  },
  {
   "cell_type": "markdown",
   "id": "377c5952-10c3-495b-bb01-a1e1249e303f",
   "metadata": {},
   "source": [
    "You can also use AI-powered transpiler passes as a drop-in custom pass in a staged pass manager. Please check the documentation [here](https://docs.quantum.ibm.com/guides/ai-transpiler-passes) for more details."
   ]
  },
  {
   "cell_type": "code",
   "execution_count": null,
   "id": "46d2c9cd-a066-40e6-9fab-3046a7508ab3",
   "metadata": {},
   "outputs": [],
   "source": [
    "# Extract information from the transpiled circuit\n",
    "circuit = circuit_ai_transpiled\n",
    "\n",
    "# Print transpilation time\n",
    "print(f\"Transpilation time: {time_with_ai} (s)\")\n",
    "\n",
    "# Output various metrics about the transpiled circuit\n",
    "print(f'Count Ops: {circuit.count_ops()}')\n",
    "print(f'Total circuit depth: {circuit.depth()}')\n",
    "print(f'Number of 2-qubit gates: {circuit.size(lambda x: x.operation.num_qubits == 2)}')\n",
    "\n",
    "# Output the score and depth specifically for 2-qubit gates, in color\n",
    "print(Fore.MAGENTA + Style.BRIGHT + f'2-qubit gate depth: {circuit.depth(lambda x: x.operation.num_qubits == 2)}')\n",
    "print(Fore.GREEN + f'Score: {score_func(circuit)}')"
   ]
  },
  {
   "cell_type": "code",
   "execution_count": null,
   "id": "1bf7c5a7-e232-4612-8d09-3a07b953014e",
   "metadata": {},
   "outputs": [],
   "source": [
    "# Run this cell to grade your answer\n",
    "grade_ex4(ts_ex4, backend)"
   ]
  },
  {
   "cell_type": "markdown",
   "id": "8db68eaf-2d42-4049-bb69-bf3052b7210c",
   "metadata": {},
   "source": [
    "## 5. Diving Deeper into Transpilation Using Custom Pass Managers\n",
    "\n",
    "### Introduction to Transpilation Strategies: Cheat Sheet\n",
    "\n",
    "In quantum computing, optimizing circuits is crucial for improving the performance and accuracy of quantum algorithms on real hardware. While preset pass managers in Qiskit provide a solid foundation for general optimization, there are cases where more targeted, deeper strategies are needed to achieve better results. Customizing transpilation through specific strategies allows you to refine circuit performance by reducing gate count, minimizing circuit depth, and optimizing qubit mapping for your specific hardware.\n",
    "\n",
    "Let us dive deeper into these strategies and leverage Qiskit SDK's `PassManager`, to experiment with various techniques to improve the efficiency of your circuits, enabling them to run more effectively on real quantum devices.\n",
    "\n",
    "### General Strategies Cheat Sheet\n",
    "\n",
    "| **Strategy**                             | **When to Use This Strategy?**                                                        | **Why?**                                                                                                                                        | **How Much Improvement?**                                                                                       | **Implementation**                                                                                                                        |\n",
    "|------------------------------------------|--------------------------------------------------------------------------------------|------------------------------------------------------------------------------------------------------------------------------------------------|-----------------------------------------------------------------------------------------------------------------|-----------------------------------------------------------------------------------------------------------------------------------------|\n",
    "| **Try transpiling multiple times**       | Always (May not be needed in most cases now. Use `SabreLayout` and increase `trial_count` argument instead.) | Many transpilation passes are stochastic. Running the transpiler multiple times may result in better outcomes.                                                     | Transpile multiple times in a loop and keep the best result.                                                   | Utilize a loop or a genetic algorithm to mutate and evolve a better transpiler workflow.                                                                       |\n",
    "| **Dropping the final Clifford (operator backpropagation)** | When measuring an observable                                                  | Can potentially reduce the circuit depth with minimal overhead cost. | May help optimize depth without much extra complexity. | Implement operator backpropagation by rearranging gate sequences.                                                                                                                                         |\n",
    "| **Use approximation degree**               | For deep circuits                                                                    | Deep circuits often accumulate noise, so trading off accuracy with fewer gates/errors may improve results.         | Can reduce the depth by optimizing gates based on the error rates of qubit gates. | Use `approximation_degree='none'` or set it based on hardware error rates.                                                                                                                                         |\n",
    "| **Apply dynamical decoupling**              | For devices with high crosstalk errors (e.g., Eagle); may not be effective in all devices            | Dynamical decoupling can suppress crosstalk errors between qubits.                                                                                               | Potential improvements for specific hardware architectures. | Use Qiskit Runtime’s dynamical decoupling capabilities or create a custom decoupling pass.                                                                                                                              |\n",
    "| **Numerical approximate methods**        | Large networks of CNOTs or Clifford gates                                             | Useful when dealing with many gates on relatively few qubits.                                                                                           | Can simplify circuits with large gate counts. | Explore numerical approximation methods for gate simplification.                                                                                                                                         |\n",
    "| **Use SabrePreLayout**                   | When trading size for depth, or with dynamic circuit support.                                                                 | Helps reduce overall circuit depth by optimizing layout before routing.                                                                                               | Useful when depth is a more critical factor than size. | Use Sabre layout or explore Qiskit’s `SabrePreLayout` for more dynamic control.                                                            |\n",
    "| **Leverage Pauli synthesis tools**       | For circuits with large sequences of multi-qubit Pauli rotations or Trotter decomposition problems. | Optimizing Pauli rotations can significantly reduce circuit depth, especially in hardware with limited connectivity. | May result in substantial depth reduction in circuits with many Pauli rotations. | Use Pauli synthesis tools in Qiskit or Rustiq for Trotter circuits.                                                                                             |\n",
    "\n",
    "---\n",
    "\n",
    "\n"
   ]
  },
  {
   "cell_type": "markdown",
   "id": "87f79ca9-eb7b-4d57-add6-05d9dcb45f09",
   "metadata": {},
   "source": [
    "### Applying Transpilation Strategies Using Custom and Staged Pass Managers\n",
    "\n",
    "In this section, you’ll learn how to integrate these optimization strategies into your custom pass manager to improve your quantum circuit. In Qiskit SDK, Custom `PassManagers` allow fine-grained control over the transpilation process by enabling users to define a specific sequence of optimization and transformation passes. These passes can target specific goals such as reducing circuit depth, improving fidelity, or adapting to the hardware topology.  By applying a combination of these methods, you can see how each strategy contributes to the overall circuit efficiency, making it more suitable for execution on IBM Quantum backends.\n",
    "\n",
    "The `StagedPassManager` organizes the transpilation workflow into distinct stages, each stage being a `PassManager` focusing on different optimization goals such as initial layout selection, gate reduction, or final qubit mapping. This staged approach allows for incremental improvements and conditional passes that apply only when necessary, offering a structured way to fine-tune the balance between execution speed and circuit fidelity. Together, Custom `PassManagers` and `StagedPassManager` enable deeper exploration of transpilation strategies, giving developers full control over the optimization process to create circuits best suited for specific hardware constraints.\n",
    "\n",
    "### Custom Pass Managers\n",
    "\n",
    "As mentioned above, a **`PassManager`** allows you to apply a sequence of optimization passes to a quantum circuit, transforming it for more efficient execution on quantum hardware. By creating a custom Pass Manager, you can tailor the optimization to your circuit's specific needs, achieving deeper optimization compared to the preset configurations. Lets look at how we can create a custom `PassManager` and apply it to a workflow.\n",
    "\n",
    "#### Example: Creating a Custom Pass Manager\n",
    "\n",
    "To create a custom Pass Manager, you can combine various strategies together to form a transformation. Here is an example using `Collect2qBlocks`, `ConsolidateBlocks`, and `UnitarySynthesis` to optimize the circuit. You can refer to the documentation links [here](https://docs.quantum.ibm.com/api/qiskit/qiskit.transpiler.passes.Collect2qBlocks) to know more about their transformation.\n"
   ]
  },
  {
   "cell_type": "code",
   "execution_count": null,
   "id": "98ac7c12-24ee-4e6f-9cb4-430f94e5cfa6",
   "metadata": {},
   "outputs": [],
   "source": [
    "from qiskit.transpiler import PassManager\n",
    "from qiskit.transpiler.passes import Collect2qBlocks, ConsolidateBlocks, UnitarySynthesis\n",
    "\n",
    "# Show example \n",
    "basis_gates = [\"rx\", \"ry\", \"rxx\"]\n",
    "custom_pass_manager = PassManager([\n",
    "   Collect2qBlocks(),\n",
    "   ConsolidateBlocks(basis_gates=basis_gates),\n",
    "   UnitarySynthesis(basis_gates),\n",
    "])\n"
   ]
  },
  {
   "cell_type": "markdown",
   "id": "eb12635d-df3a-416a-98e9-2a2e2028db48",
   "metadata": {},
   "source": [
    "You can then apply this custom Pass Manager to a circuit using its run method."
   ]
  },
  {
   "cell_type": "code",
   "execution_count": null,
   "id": "d83ab3f4-6b92-453c-aab2-c39331ad05a5",
   "metadata": {},
   "outputs": [],
   "source": [
    "###############  Measure the start time of the transpilation process\n",
    "t0 = time.time()\n",
    "\n",
    "# Run the pass manager to transpile the QAOA cost layer circuit\n",
    "transpiled_circuit = custom_pass_manager.run(cost_layer)\n",
    "\n",
    "# Measure the end time of the transpilation process\n",
    "t1 = time.time()\n",
    "\n",
    "# Print transpilation time\n",
    "print(f\"Transpilation time: {t1-t0} (s)\")\n",
    "\n",
    "transpiled_circuit.decompose(reps=2).draw(output=\"mpl\",idle_wires=False, fold=-1,scale=0.5)"
   ]
  },
  {
   "cell_type": "markdown",
   "id": "4acfa91a-db79-4ded-a065-e63539aefa67",
   "metadata": {},
   "source": [
    "### Staged Pass Managers\n",
    "A **Staged Pass Manager** allows you to organize multiple `PassManagers` into distinct stages of transpilation such as  initialization, layout, routing, translation, optimization, and scheduling. This provides more flexibility in how the transpilation process is structured.\n",
    "\n",
    "You can create a Staged Pass Manager by defining stages and assigning Pass Managers to each stage:"
   ]
  },
  {
   "cell_type": "code",
   "execution_count": null,
   "id": "22401538-2e2e-4d4c-bbaf-63f4df87877f",
   "metadata": {},
   "outputs": [],
   "source": [
    "from qiskit.transpiler import PassManager, StagedPassManager\n",
    "from qiskit.transpiler.passes import UnitarySynthesis, Unroll3qOrMore\n",
    "# Preset pass manager is the staged pass manager and flow from there. Use the preset passmanager and swap a stage\n",
    "init_pm = PassManager([UnitarySynthesis(basis_gates=[\"rx\", \"ry\", \"rxx\"], min_qubits=3), Unroll3qOrMore()])\n",
    "translate_pm = PassManager([Collect2qBlocks(), ConsolidateBlocks(basis_gates=[\"rx\", \"ry\", \"rxx\"])])\n",
    "\n",
    "staged_pass_manager = StagedPassManager(stages=[\"init\", \"translation\"], init=init_pm, translation=translate_pm)"
   ]
  },
  {
   "cell_type": "code",
   "execution_count": null,
   "id": "7308d6b3-7935-471d-96c6-5e84fa143d6d",
   "metadata": {
    "scrolled": true
   },
   "outputs": [],
   "source": [
    "###############  Measure the start time of the transpilation process\n",
    "t0 = time.time()\n",
    "\n",
    "# Run the pass manager to transpile the QAOA cost layer circuit\n",
    "transpiled_circuit = staged_pass_manager.run(cost_layer)\n",
    "\n",
    "# Measure the end time of the transpilation process\n",
    "t1 = time.time()\n",
    "\n",
    "# Print the total transpilation time\n",
    "print(f\"transpilation time: {t1 - t0:.2f} (s)\")\n",
    "transpiled_circuit.decompose().draw(output=\"mpl\",idle_wires=False, fold=-1,scale=0.5)"
   ]
  },
  {
   "cell_type": "markdown",
   "id": "265c601e-a15d-4db0-8b56-3e31758be8ce",
   "metadata": {},
   "source": [
    "You can also modify stages of Qiskit preset passmanagers and modify the workflow:"
   ]
  },
  {
   "cell_type": "code",
   "execution_count": null,
   "id": "b8ee04bb-3411-472f-8536-07d42ef8204e",
   "metadata": {},
   "outputs": [],
   "source": [
    "circuit = transpiled_circuit\n",
    "\n",
    "# Output various metrics about the transpiled circuit\n",
    "print(f'Count Ops: {circuit.count_ops()}')\n",
    "print(f'Total circuit depth: {circuit.depth()}')\n",
    "print(f'Number of 2-qubit gates: {circuit.size(lambda x: x.operation.num_qubits == 2)}')\n",
    "\n",
    "# Output the score and depth specifically for 2-qubit gates, in color\n",
    "print(Fore.MAGENTA + Style.BRIGHT + f'2-qubit gate depth: {circuit.depth(lambda x: x.operation.num_qubits == 2)}')\n",
    "print(Fore.GREEN + f'Score: {score_func(circuit)}')"
   ]
  },
  {
   "cell_type": "markdown",
   "id": "651c6cf8-b677-4d3d-9b23-cd216112c2a7",
   "metadata": {},
   "source": [
    "**Now that you have learned how to create a custom `PassManager`, `StagedPassManager` and AI-assisted passes, let us put it to test on our cost function circuit**\n",
    "\n"
   ]
  },
  {
   "cell_type": "markdown",
   "id": "c7cdeb13-020e-403e-a1fe-e4acee14ae29",
   "metadata": {},
   "source": [
    "<a id=\"exercise5\"></a>\n",
    "<div class=\"alert alert-block alert-success\">\n",
    "    \n",
    "<b> Exercise 5: Exploring custom pass managers</b> \n",
    "\n",
    "In the next exercise, use all of the above techniques to get to a better score for optimizing the QAOA Cost function circuit. This exercise will help you appreciate the advanced optimization techniques that the Qiskit SDK's transpiler has that enhance the performance of quantum circuits. It will also provide a foundation for experimenting with more complex customizations in the Advanced Track section of this notebook.\n",
    "\n",
    "**Challenge:**\n",
    "1. Use a preset `PassManager` or a custom `PassManager` to optimize the QAOA cost function transpilation as much as possible. You can experiment to design your own `StagedPassManager` to integrate your custom `PassManager` workflow.\n",
    "2. Try to achieve the best possible performance by experimenting with different combinations of passes.\n",
    "3. Feel free to make use of AI-Powered transpiler passes or external plugins from the [Qiskit Ecosystem](https://www.ibm.com/quantum/ecosystem?tag=Transpiler+plugin) to acheive the same\n",
    "4. The score as assessed by the grader needs to be less than **400** for the `cost_layer` circuit provided\n",
    "\n",
    "**Hint:**  \n",
    "Remember that sometimes adding too many passes can lead to diminishing returns or even degrade performance. Aim for a balance! Once you've finalized your pass manager, submit your optimized circuit for grading.\n",
    "\n",
    "**Let’s apply these strategies to optimize your QAOA circuit!**\n",
    "</div> \n"
   ]
  },
  {
   "cell_type": "markdown",
   "id": "6a78bc8d-532f-4a1b-b833-18a084a7dd9d",
   "metadata": {},
   "source": [
    "\n",
    "\n",
    "\n",
    "\n",
    "#### Useful Resources for Transpiler Passes\n",
    "\n",
    "- General documentation for passes: [Qiskit Transpiler Passes Documentation](https://docs.quantum.ibm.com/api/qiskit/transpiler_passes)\n",
    "\n",
    "#### Specific Pass Categories:\n",
    "- **Layout Passes**: [Layout Passes](https://github.com/Qiskit/qiskit/tree/main/qiskit/transpiler/passes/layout)\n",
    "- **Routing Passes**: [Routing Passes](https://github.com/Qiskit/qiskit/tree/main/qiskit/transpiler/passes/routing)\n",
    "- **Translation Passes**: [Translation Passes](https://github.com/Qiskit/qiskit/tree/main/qiskit/transpiler/passes/synthesis)\n",
    "- **Optimization Passes**: [Optimization Passes](https://github.com/Qiskit/qiskit/tree/main/qiskit/transpiler/passes/optimization)\n"
   ]
  },
  {
   "cell_type": "code",
   "execution_count": null,
   "id": "b1d1b834-ca94-438b-a7ea-1801a84b1d3b",
   "metadata": {
    "scrolled": true
   },
   "outputs": [],
   "source": [
    "# Import necessary libraries and transpiler passes\n",
    "from qiskit.circuit import SessionEquivalenceLibrary\n",
    "from qiskit.transpiler import PassManager, StagedPassManager\n",
    "from qiskit.transpiler.preset_passmanagers import generate_preset_pass_manager\n",
    "from qiskit.transpiler.preset_passmanagers.common import generate_unroll_3q, generate_embed_passmanager\n",
    "from qiskit.transpiler.passes.layout import (\n",
    "    CSPLayout, DenseLayout, SabreLayout, VF2Layout, TrivialLayout\n",
    ")\n",
    "from qiskit.transpiler.passes.routing import (\n",
    "    BasicSwap, LookaheadSwap, SabreSwap, StochasticSwap, StarPreRouting\n",
    ")\n",
    "from qiskit.transpiler.passes.basis import BasisTranslator\n",
    "from qiskit.transpiler.passes.optimization import (\n",
    "    CommutativeCancellation, ConsolidateBlocks, Collect2qBlocks, Collect1qRuns, Optimize1qGates, Optimize1qGatesDecomposition, Optimize1qGatesSimpleCommutation\n",
    ")\n",
    "from qiskit.transpiler.passes.synthesis import UnitarySynthesis, HighLevelSynthesis\n",
    "\n",
    "\n",
    "# Set up coupling map for transpilation stages\n",
    "cm = backend.coupling_map\n",
    "\n",
    "### Write your code below here ###\n",
    "\n",
    "pm_ex5 = \n",
    "\n",
    "\n",
    "\n",
    "\n",
    "\n",
    "### Don't change any code past this line ###\n",
    "\n",
    "###############  Measure the start time of the transpilation process\n",
    "t0 = time.time()\n",
    "\n",
    "# Run the pass manager to transpile the QAOA cost layer circuit\n",
    "pm_aprox_transpiled_qaoa = pm_ex5.run(cost_layer, callback=callback_func)\n",
    "\n",
    "# Measure the end time of the transpilation process\n",
    "t1 = time.time()\n",
    "\n",
    "# Print transpilation time\n",
    "print(f\"Transpilation time: {t1 - t0:.2f} seconds\")"
   ]
  },
  {
   "cell_type": "code",
   "execution_count": null,
   "id": "bc15f692-6f73-4279-82d2-81e07d953a7f",
   "metadata": {},
   "outputs": [],
   "source": [
    "circuit = pm_aprox_transpiled_qaoa\n",
    "\n",
    "# Output various metrics about the transpiled circuit\n",
    "print(f'Count Ops: {circuit.count_ops()}')\n",
    "print(f'Total circuit depth: {circuit.depth()}')\n",
    "print(f'Number of 2-qubit gates: {circuit.size(lambda x: x.operation.num_qubits == 2)}')\n",
    "\n",
    "# Output the score and depth specifically for 2-qubit gates, in color\n",
    "print(Fore.MAGENTA + Style.BRIGHT + f'2-qubit gate depth: {circuit.depth(lambda x: x.operation.num_qubits == 2)}')\n",
    "print(Fore.GREEN + f'Score: {score_func(circuit)}')"
   ]
  },
  {
   "cell_type": "code",
   "execution_count": null,
   "id": "939bb222-c963-4387-9a20-389d9b6ba63d",
   "metadata": {},
   "outputs": [],
   "source": [
    "# Run this cell to grade your answer\n",
    "grade_ex5(pm_ex5, backend)"
   ]
  },
  {
   "cell_type": "markdown",
   "id": "dac94d76-aaa0-4ba5-a4b9-863e3921411d",
   "metadata": {
    "jp-MarkdownHeadingCollapsed": true
   },
   "source": [
    "<a id=\"congratulations\"></a>\n",
    "<div class=\"alert alert-block alert-success\">\n",
    "    \n",
    "<b> 🎉 **Congratulations!** 🎉 on Completing Part 1! </b>\n",
    "\n",
    "\n",
    "\n",
    "You've successfully completed the first part of the challenge, where you've gained a solid understanding of Qiskit’s transpilation process and learned how to optimize quantum circuits using preset Pass Managers. Your ability to navigate through the basics and apply these optimizations is a significant achievement. \n",
    "\n",
    "But why stop here? There’s a whole new level of customization and control waiting for you in the **Advanced Track**.\n",
    "\n",
    "\n",
    "\n",
    "</div> \n"
   ]
  },
  {
   "cell_type": "markdown",
   "id": "2a224a8a-2bc8-403a-af38-af1a2646e88e",
   "metadata": {},
   "source": [
    "## Advanced Track: Deep Dive into Custom Transpilation Strategies"
   ]
  },
  {
   "cell_type": "markdown",
   "id": "d1ff536c-cd7a-4b66-bea6-ef3345206607",
   "metadata": {
    "jp-MarkdownHeadingCollapsed": true
   },
   "source": [
    "<div class=\"alert alert-block alert-warning\">\n",
    "\n",
    "<b> Welcome to the Advanced section: Ready for the Next Challenge? </b> \n",
    "\n",
    "In the Advanced Track, you'll take your skills to the next level by diving deep into custom transpilation strategies. Here, you'll have the opportunity to write your own transpiler passes, experiment with advanced Pass Managers, and fine-tune your circuits like never before.\n",
    "\n",
    "This next stage is all about pushing boundaries and seeing how far you can optimize your quantum circuits. It’s where the real challenge begins, and where you’ll truly master the art of quantum circuit optimization.\n",
    "\n",
    "**Note: This section does not require you to do the beginner section and can be attempted standalone.**\n",
    "\n",
    "Are you ready to take on the Advanced Challenge? Let’s continue this journey and see how far you can go!\n",
    "\n",
    "</div>"
   ]
  },
  {
   "cell_type": "markdown",
   "id": "43cd09e0-969e-413c-b8c5-008b7d8a8d21",
   "metadata": {},
   "source": [
    "\n",
    "### Introduction\n",
    "\n",
    "For those looking to push the limits of quantum circuit optimization, the Advanced Track offers a deeper exploration into custom transpilation strategies. This track is designed for participants who want to experiment with more sophisticated techniques, leveraging the full flexibility of Qiskit’s Transpilation capablities.\n",
    "\n",
    "### Challenge Objectives\n",
    "\n",
    "- **Optimize Beyond Defaults:** Move beyond preset configurations to develop and fine-tune custom Pass Managers that implement high-impact optimizations tailored to your circuit's unique requirements.\n",
    "- **Write Custom Transpiler Passes:** Attempt to create your own transpiler passes to address specific optimization challenges using your own approaches.\n",
    "- **Experiment with Staged Transpilation:** Utilize Staged Pass Managers to structure the transpilation process into distinct phases and precisly control over each stage of circuit transformation.\n",
    "\n",
    "\n",
    "Benchmark your optimizations and test and iterate on your custom strategies, comparing them against standard presets to demonstrate your works effectiveness against the grader.\n"
   ]
  },
  {
   "cell_type": "markdown",
   "id": "e4d4d3c0-46d8-44a9-b05d-bb1cfc34b73c",
   "metadata": {},
   "source": [
    "To get you inspired, here is an example of a custom transpilation pass strategy implemented by our IBM researchers:"
   ]
  },
  {
   "cell_type": "markdown",
   "id": "cab6f431-db2e-44d0-9f3e-1ec2de317c36",
   "metadata": {},
   "source": [
    "## 6. Example: Custom optimal pass for QAOA\n",
    "This section shows how applying domain-specific transpilation strategies allows to reduce circuit depth and 2-qubit gate count on qaoa circuits. \n",
    "\n",
    "*This section is from a notebook authored by Elena Peña Tapia, IBM Quantum. You can find the notebook here: [https://github.com/qiskit-community/qopt-best-practices/blob/main/how_tos/how_to_apply_optimal_qaoa_transpilation.ipynb](https://github.com/qiskit-community/qopt-best-practices/blob/main/how_tos/how_to_apply_optimal_qaoa_transpilation.ipynb)*\n",
    "\n",
    "References:\n",
    "\n",
    "[1] Sack, S. H., & Egger, D. J. (2023). Large-scale quantum approximate optimization on non-planar graphs with machine learning noise mitigation. arXiv preprint arXiv:2307.14427.\n",
    "\n",
    "[2] Weidenfeller, J., Valor, L. C., Gacon, J., Tornow, C., Bello, L., Woerner, S., & Egger, D. J. (2022). Scaling of the quantum approximate optimization algorithm on superconducting qubit based hardware. Quantum, 6, 870. "
   ]
  },
  {
   "cell_type": "markdown",
   "id": "7e5c0952-8a17-439c-8aad-b230b72f4ca8",
   "metadata": {
    "jp-MarkdownHeadingCollapsed": true
   },
   "source": [
    "<div class=\"alert alert-block alert-warning\">\n",
    "\n",
    "<b> **Note:** </b> The problem setting is the example below is for $n=10$ and $m=6$\n",
    "\n",
    "</div>"
   ]
  },
  {
   "cell_type": "code",
   "execution_count": null,
   "id": "fa293fd3-f9eb-4632-b74c-1a48cd0c579b",
   "metadata": {},
   "outputs": [],
   "source": [
    "# Setup problem\n",
    "from qiskit import QuantumCircuit\n",
    "from networkx import barabasi_albert_graph, draw\n",
    "num_qubits = 10\n",
    "graph = barabasi_albert_graph(n=num_qubits, m=6, seed=42)\n",
    "\n",
    "# Build operators\n",
    "from utils import build_max_cut_paulis\n",
    "from qiskit.quantum_info import SparsePauliOp\n",
    "\n",
    "local_correlators = build_max_cut_paulis(graph)\n",
    "cost_operator = SparsePauliOp.from_list(local_correlators)\n",
    "print(cost_operator)\n",
    "\n",
    "# Build cost_layer\n",
    "# We are taking advantage of the QAOAAnsatz class to build the cost layer, \n",
    "# note that we are giving it dummy initial state and mixer circuits.\n",
    "from qiskit import QuantumCircuit\n",
    "from qiskit.circuit.library import QAOAAnsatz\n",
    "from qiskit.circuit import ParameterVector\n",
    "\n",
    "dummy_initial_state = QuantumCircuit(num_qubits)  # the real initial state is defined later\n",
    "dummy_mixer_operator = QuantumCircuit(num_qubits)  # the real mixer is defined later\n",
    "\n",
    "cost_layer = QAOAAnsatz(\n",
    "    cost_operator,\n",
    "    reps=1,\n",
    "    initial_state=dummy_initial_state,\n",
    "    mixer_operator=dummy_mixer_operator,\n",
    "    name=\"QAOA cost block\",\n",
    ")"
   ]
  },
  {
   "cell_type": "code",
   "execution_count": null,
   "id": "aeeaab23-10cc-4479-8dac-5831660e7d49",
   "metadata": {},
   "outputs": [],
   "source": [
    "from qiskit_ibm_runtime import QiskitRuntimeService\n",
    "\n",
    "# QiskitRuntimeService.save_account(\n",
    "#     channel=\"ibm_quantum\",\n",
    "#     token=\"\",\n",
    "#     set_as_default=True,\n",
    "#     # Use `overwrite=True` if you're updating your token.\n",
    "#     overwrite=True,\n",
    "# )\n",
    " \n",
    "# Load saved credentials\n",
    "service = QiskitRuntimeService(channel=\"ibm_quantum\")\n",
    "\n",
    "# Select backend\n",
    "backend = service.backend(\"ibm_torino\")"
   ]
  },
  {
   "cell_type": "markdown",
   "id": "f13aba60-124c-4dcd-8e35-7e15403cc9f0",
   "metadata": {},
   "source": [
    "### Design pass manager for cost layer transpilation\n",
    "\n",
    "The cost layer transpilation stage will apply the swap strategies from [1,2] to optimally route the cost layer circuit into the connectivity of our backend. This collection of passes will insert swap gates to fit the circuit to the chip connectivity in a way that will allow to maximally cancel CNOT gates and reduce the total circuit depth.\n",
    "\n",
    "Note that we are routing the circuit into a `line`, which proves to be optimal in most QAOA cases. To make sure that the line fits into our chip, we use the `BackendEvaluator` utility before committing to the swap strategy:"
   ]
  },
  {
   "cell_type": "code",
   "execution_count": null,
   "id": "2f2f68fe-2d4d-4901-96db-e4d614ecc567",
   "metadata": {},
   "outputs": [],
   "source": [
    "from utils import BackendEvaluator\n",
    "\n",
    "# The backend evaluator finds the line of qubits with the best fidelity to map the circuit to\n",
    "path_finder = BackendEvaluator(backend)\n",
    "path, fidelity, num_subsets = path_finder.evaluate(num_qubits)\n",
    "print(path, fidelity)"
   ]
  },
  {
   "cell_type": "markdown",
   "id": "026389f7-31ee-4f3c-8243-de5d5c5a1581",
   "metadata": {},
   "source": [
    "The collection of passes defined below will be embedded into the \"pre_init\" stage of our `StagedPassManager`."
   ]
  },
  {
   "cell_type": "code",
   "execution_count": null,
   "id": "1407d326-3e9d-4be7-b15d-8897d93a662b",
   "metadata": {},
   "outputs": [],
   "source": [
    "from qiskit.transpiler import PassManager\n",
    "from qiskit.transpiler.passes import (\n",
    "    BasisTranslator,\n",
    "    UnrollCustomDefinitions,\n",
    "    CommutativeCancellation,\n",
    "    Decompose,\n",
    "    CXCancellation,\n",
    "    HighLevelSynthesis,\n",
    "    InverseCancellation\n",
    ")\n",
    "\n",
    "from qiskit.transpiler.passes.routing.commuting_2q_gate_routing import (\n",
    "    SwapStrategy,\n",
    "    FindCommutingPauliEvolutions,\n",
    "    Commuting2qGateRouter,\n",
    ")\n",
    "from qiskit.circuit.library.standard_gates.equivalence_library import _sel\n",
    "from qiskit.circuit.library import CXGate"
   ]
  },
  {
   "cell_type": "code",
   "execution_count": null,
   "id": "fcf4fe64-9b6c-4658-93b5-03b4678a984a",
   "metadata": {},
   "outputs": [],
   "source": [
    "# 1. choose swap strategy (in this case -> line)\n",
    "swap_strategy = SwapStrategy.from_line([i for i in range(num_qubits)])\n",
    "edge_coloring = {(idx, idx + 1): (idx + 1) % 2 for idx in range(num_qubits)}\n",
    "\n",
    "# 2. define pass manager for cost layer\n",
    "pre_init = PassManager(\n",
    "            [HighLevelSynthesis(basis_gates=['PauliEvolution']),\n",
    "             FindCommutingPauliEvolutions(),\n",
    "             Commuting2qGateRouter(\n",
    "                    swap_strategy,\n",
    "                    edge_coloring,\n",
    "                ),\n",
    "             HighLevelSynthesis(basis_gates=[\"x\", \"cx\", \"sx\", \"rz\", \"id\"]),\n",
    "             InverseCancellation(gates_to_cancel=[CXGate()]),\n",
    "            ]\n",
    ")"
   ]
  },
  {
   "cell_type": "markdown",
   "id": "6cf0741b-c1f6-4d23-ac8d-e0cc5701b29a",
   "metadata": {},
   "source": [
    "We can run this pass manager independently to confirm that it performs the desired transformations:"
   ]
  },
  {
   "cell_type": "code",
   "execution_count": null,
   "id": "e6370d2b-0f36-493e-946a-f78417abee9c",
   "metadata": {},
   "outputs": [],
   "source": [
    "# Before:\n",
    "print(cost_layer.decompose(reps=4).count_ops())\n",
    "cost_layer.decompose(reps=4).draw(\"mpl\", fold=-1)"
   ]
  },
  {
   "cell_type": "code",
   "execution_count": null,
   "id": "de767f99-4817-42e5-b6eb-4146ea968540",
   "metadata": {},
   "outputs": [],
   "source": [
    "tmp = pre_init.run(cost_layer)"
   ]
  },
  {
   "cell_type": "code",
   "execution_count": null,
   "id": "90d1a654-5ea8-4438-8b19-2d4696608bc4",
   "metadata": {
    "scrolled": true
   },
   "outputs": [],
   "source": [
    "# After:\n",
    "print(tmp.count_ops())\n",
    "tmp.draw('mpl', fold=-1)"
   ]
  },
  {
   "cell_type": "code",
   "execution_count": null,
   "id": "c484bede-b2b8-40d8-8262-ef9ca7666e43",
   "metadata": {},
   "outputs": [],
   "source": [
    "# Mixer operator = rx rotations\n",
    "betas = ParameterVector(\"β\", qaoa_layers)\n",
    "mixer_operator = QuantumCircuit(num_qubits)\n",
    "mixer_operator.rx(-2*betas[0], range(num_qubits))"
   ]
  },
  {
   "cell_type": "code",
   "execution_count": null,
   "id": "9224c52e-6ecf-406f-8f8a-4e8b1c8277e9",
   "metadata": {},
   "outputs": [],
   "source": [
    "from qiskit.transpiler.basepasses import TransformationPass\n",
    "from qiskit.converters import circuit_to_dag, dag_to_circuit\n",
    "\n",
    "class QAOAPass(TransformationPass):\n",
    "\n",
    "    def __init__(self, num_layers, num_qubits, init_state = None, mixer_layer = None):\n",
    "\n",
    "        super().__init__()\n",
    "        self.num_layers = num_layers\n",
    "        self.num_qubits = num_qubits\n",
    "        \n",
    "        if init_state is None:\n",
    "            # Add default initial state -> equal superposition\n",
    "            self.init_state = QuantumCircuit(num_qubits)\n",
    "            self.init_state.h(range(num_qubits))\n",
    "        else: \n",
    "            self.init_state = init_state\n",
    "        \n",
    "        if mixer_layer is None:\n",
    "            # Define default mixer layer\n",
    "            self.mixer_layer = QuantumCircuit(num_qubits)\n",
    "            self.mixer_layer.rx(-2*betas[0], range(num_qubits))\n",
    "        else:\n",
    "            self.mixer_layer = mixer_layer\n",
    "\n",
    "    def run(self, cost_layer_dag):\n",
    "\n",
    "        cost_layer = dag_to_circuit(cost_layer_dag)\n",
    "        qaoa_circuit = QuantumCircuit(self.num_qubits, self.num_qubits)\n",
    "        # Re-parametrize the circuit\n",
    "        gammas = ParameterVector(\"γ\", self.num_layers)\n",
    "        betas = ParameterVector(\"β\", self.num_layers)\n",
    "\n",
    "        # Add initial state\n",
    "        qaoa_circuit.compose(self.init_state, inplace = True)\n",
    "\n",
    "        # iterate over number of qaoa layers\n",
    "        # and alternate cost/reversed cost and mixer\n",
    "        for layer in range(self.num_layers): \n",
    "        \n",
    "            bind_dict = {cost_layer.parameters[0]: gammas[layer]}\n",
    "            bound_cost_layer = cost_layer.assign_parameters(bind_dict)\n",
    "            \n",
    "            bind_dict = {self.mixer_layer.parameters[0]: betas[layer]}\n",
    "            bound_mixer_layer = self.mixer_layer.assign_parameters(bind_dict)\n",
    "        \n",
    "            if layer % 2 == 0:\n",
    "                # even layer -> append cost\n",
    "                qaoa_circuit.compose(bound_cost_layer, range(self.num_qubits), inplace=True)\n",
    "            else:\n",
    "                # odd layer -> append reversed cost\n",
    "                qaoa_circuit.compose(bound_cost_layer.reverse_ops(), range(self.num_qubits), inplace=True)\n",
    "        \n",
    "            # the mixer layer is not reversed\n",
    "            qaoa_circuit.compose(bound_mixer_layer, range(self.num_qubits), inplace=True)\n",
    "        \n",
    "\n",
    "        if self.num_layers % 2 == 1:\n",
    "            # iterate over layout permutations to recover measurements\n",
    "            if self.property_set[\"virtual_permutation_layout\"]:\n",
    "                for cidx, qidx in self.property_set[\"virtual_permutation_layout\"].get_physical_bits().items():\n",
    "                    qaoa_circuit.measure(qidx, cidx)\n",
    "            else:\n",
    "                print(\"layout not found, assigining trivial layout\")\n",
    "                for idx in range(self.num_qubits):\n",
    "                    qaoa_circuit.measure(idx, idx)\n",
    "        else:\n",
    "            for idx in range(self.num_qubits):\n",
    "                qaoa_circuit.measure(idx, idx)\n",
    "    \n",
    "        return circuit_to_dag(qaoa_circuit)\n",
    "        "
   ]
  },
  {
   "cell_type": "markdown",
   "id": "74c41f93-c78e-4871-b4e4-ba2e91608f34",
   "metadata": {},
   "source": [
    "Once again, let's check that this custom pass runs and builds a QAOA circuit with 3 layers:"
   ]
  },
  {
   "cell_type": "code",
   "execution_count": null,
   "id": "f4028c9d-ea73-4579-b38f-5dbfcc04256b",
   "metadata": {},
   "outputs": [],
   "source": [
    "init = PassManager([QAOAPass(num_layers=3, num_qubits=10)])"
   ]
  },
  {
   "cell_type": "code",
   "execution_count": null,
   "id": "b36e3226-2987-4499-add7-5201264bf8b1",
   "metadata": {},
   "outputs": [],
   "source": [
    "tmp_out = init.run(tmp)\n",
    "tmp_out.count_ops()\n",
    "tmp_out.draw('mpl', fold=-1)"
   ]
  },
  {
   "cell_type": "markdown",
   "id": "565d8a24-0052-4fd5-bedb-d6ce09927078",
   "metadata": {},
   "source": [
    "### Complete the pipeline\n",
    "\n",
    "Now that we can build our optimized QAOA ansatz, we need to fill out the remaining stages of the pipeline. We can use as a reference the output of the preset pass manager and just replace the init, pre-init and post-init stages with our custom pass managers. We will have to define a \"post_init\" step that takes care of the basis translation part to match the expected output in the default pipeline."
   ]
  },
  {
   "cell_type": "code",
   "execution_count": null,
   "id": "4354f3ea-041a-4419-be10-a1db41f8614e",
   "metadata": {},
   "outputs": [],
   "source": [
    "from qiskit.transpiler import Layout\n",
    "\n",
    "# We use the obtained path to define the initial layout\n",
    "initial_layout = Layout.from_intlist(path, cost_layer.qregs[0])"
   ]
  },
  {
   "cell_type": "code",
   "execution_count": null,
   "id": "efa42077-cea1-4639-91ba-06ff12557d39",
   "metadata": {},
   "outputs": [],
   "source": [
    "# The post init step unrolls the gates in the ansatz to the backend basis gates\n",
    "post_init = PassManager(\n",
    "    [\n",
    "        UnrollCustomDefinitions(_sel, basis_gates=backend.operation_names, min_qubits=3),\n",
    "        BasisTranslator(_sel, target_basis=backend.operation_names, min_qubits=3),\n",
    "    ]\n",
    ")"
   ]
  },
  {
   "cell_type": "code",
   "execution_count": null,
   "id": "3df2e103-7ed5-4dba-b854-8ca15cea67a6",
   "metadata": {},
   "outputs": [],
   "source": [
    "from qiskit.transpiler.preset_passmanagers import generate_preset_pass_manager\n",
    "\n",
    "staged_pm = generate_preset_pass_manager(3, backend, initial_layout=initial_layout)\n",
    "staged_pm.pre_init = pre_init\n",
    "staged_pm.init = init\n",
    "staged_pm.post_init = post_init\n",
    "# staged_pm.routing = None"
   ]
  },
  {
   "cell_type": "markdown",
   "id": "f4b0e156-b543-4eaa-b622-8f5b7f75861a",
   "metadata": {},
   "source": [
    "### Run the StagedPassManager"
   ]
  },
  {
   "cell_type": "code",
   "execution_count": null,
   "id": "5253eeda-c8fb-4cb3-b00c-8021d9aaabba",
   "metadata": {},
   "outputs": [],
   "source": [
    "import time\n",
    "\n",
    "t0_opt = time.time()\n",
    "optimally_transpiled_qaoa = staged_pm.run(cost_layer)\n",
    "t1_opt = time.time()"
   ]
  },
  {
   "cell_type": "code",
   "execution_count": null,
   "id": "165d4d57-4921-4e17-888c-a732f5584d02",
   "metadata": {},
   "outputs": [],
   "source": [
    "# Print transpilation time\n",
    "print(f\"Transpilation time: {t1_opt - t0_opt:.2f} seconds\")\n",
    "\n",
    "circuit = optimally_transpiled_qaoa\n",
    "# Output various metrics about the transpiled circuit\n",
    "print(f'Count Ops: {circuit.count_ops()}')\n",
    "print(f'Total circuit depth: {circuit.depth()}')\n",
    "print(f'Number of 2-qubit gates: {circuit.size(lambda x: x.operation.num_qubits == 2)}')\n",
    "\n",
    "# Output the score and depth specifically for 2-qubit gates, in color\n",
    "print(Fore.MAGENTA + Style.BRIGHT + f'2-qubit gate depth: {circuit.depth(lambda x: x.operation.num_qubits == 2)}')\n",
    "print(Fore.GREEN + f'Score: {score_func(circuit)}')"
   ]
  },
  {
   "cell_type": "markdown",
   "id": "cad24bfc-eb4c-4a03-9800-91b009b68a1d",
   "metadata": {},
   "source": [
    "## Exercise 6: Grand Finale\n",
    "<a id=\"exercise6\"></a>\n",
    "<div class=\"alert alert-block alert-success\">\n",
    "<b>Exercise 6: Advanced Circuit Optimization</b>\n",
    "\n",
    "Let's use all the capabilities of the Qiskit SDK's Transpiler and Transpiler Service to achieve the best results. This exercise will test your skills to use the deepest customization techniques offered by Qiskit SDK to get to a better score for optimizing the provided QAOA Cost function circuit. \n",
    "\n",
    "**Challenge:**\n",
    "1. Create and use a Custom Transpiler Pass within a StagedPassManager\n",
    "2. The score as assessed by the grader needs to be less than **170** for the `cost_layer` circuit provided\n",
    "\n",
    "\n",
    "\n",
    "**Some helpful documentation links for this exercise:**\n",
    "- [Create a custom PassManager](https://docs.quantum.ibm.com/guides/dynamical-decoupling-pass-manager)\n",
    "- [Write your own custom transpiler pass](https://docs.quantum.ibm.com/guides/custom-transpiler-pass)\n",
    "- [Installing and using Transpiler plugins](https://docs.quantum.ibm.com/guides/transpiler-plugins)\n",
    "- [Create a transpiler plugin](https://docs.quantum.ibm.com/guides/create-transpiler-plugin)\n",
    "\n",
    "</div> \n"
   ]
  },
  {
   "cell_type": "markdown",
   "id": "15759164-ccd3-42b3-8702-2f5220251f81",
   "metadata": {},
   "source": [
    "<a id=\"scoring_func\"></a>\n",
    "<div class=\"alert alert-block alert-info\">\n",
    "    \n",
    "⚠️ **About the scoring function** \n",
    "\n",
    "The scoring function evaluates your transpiled circuit based on its depth and gate usage, focusing on optimizing two-qubit gates, which are more resource-intensive on quantum hardware. It first checks if the circuit only uses the backend's basis gates and conforms to its qubit connectivity. If either check fails, a high penalty score is applied. Otherwise, the score is calculated by summing the depth of two-qubit gates and a reduced weight of single-qubit gates as follows:\n",
    "\n",
    "$$score = n_{\\text{2Q gate depth}} + n_{\\text{1Q gate depth}}/10$$\n",
    "\n",
    "**The goal is to minimize the score. Lower scores indicate more efficient circuits and higher circuit fidelity, so strive for optimization!** </div>"
   ]
  },
  {
   "cell_type": "markdown",
   "id": "ff02b201-318f-4f52-aa46-b96e57070ba1",
   "metadata": {},
   "source": [
    "**Debugging tip:** When customizing transpilation settings, it can be extremely helpful to print out the list of passes that will be applied. This allows you to verify that your custom passes are being included in the correct order and that no unwanted default passes are being added. You can do this by adding a callback function as below:"
   ]
  },
  {
   "cell_type": "code",
   "execution_count": null,
   "id": "4c4ebd72-fddf-423e-b9a0-4c44425fab2d",
   "metadata": {
    "scrolled": true
   },
   "outputs": [],
   "source": [
    "def callback_func(pass_, dag, time, property_set, count):\n",
    "    print(f\"PASS {count}: {pass_.name()} in {time}\")\n",
    "    print(f\"ops: {dag.count_ops()}\")\n",
    "    print(f\"dep: {dag.depth()}\")\n",
    "    print(f\"========\")"
   ]
  },
  {
   "cell_type": "markdown",
   "id": "beb189df-ba2d-429c-83c7-229fc7000deb",
   "metadata": {},
   "source": [
    "Examining the pass list helps you understand exactly how your circuit is being transpiled and can be invaluable for troubleshooting unexpected results or optimizing the transpilation process. If you notice passes that shouldn't be there or passes missing that you expected, you can adjust your [`generate_preset_pass_manager`](https://docs.quantum.ibm.com/api/qiskit/0.42/qiskit.transpiler.preset_passmanagers.generate_preset_pass_manager) configuration accordingly.\n",
    "\n",
    "Experiment with modifying parameters associated with the transpilation stages to observe their impact on your circuit metrics:"
   ]
  },
  {
   "cell_type": "code",
   "execution_count": null,
   "id": "b37fcc74-a145-4b75-a82f-81c51a26e4dc",
   "metadata": {
    "scrolled": true
   },
   "outputs": [],
   "source": [
    "# Setup problem\n",
    "from qiskit import QuantumCircuit\n",
    "from networkx import barabasi_albert_graph, draw\n",
    "graph = barabasi_albert_graph(n=50, m=6, seed=42)\n",
    "\n",
    "# Build operators\n",
    "from utils import build_max_cut_paulis\n",
    "from qiskit.quantum_info import SparsePauliOp\n",
    "\n",
    "local_correlators = build_max_cut_paulis(graph)\n",
    "cost_operator = SparsePauliOp.from_list(local_correlators)\n",
    "print(cost_operator)\n",
    "\n",
    "# Define layers\n",
    "num_qubits = cost_operator.num_qubits\n",
    "\n",
    "# Build cost_layer\n",
    "# We are taking advantage of the QAOAAnsatz class to build the cost layer, \n",
    "# note that we are giving it dummy initial state and mixer circuits.\n",
    "from qiskit import QuantumCircuit\n",
    "from qiskit.circuit.library import QAOAAnsatz\n",
    "from qiskit.circuit import ParameterVector\n",
    "\n",
    "dummy_initial_state = QuantumCircuit(num_qubits)  # the real initial state is defined later\n",
    "dummy_mixer_operator = QuantumCircuit(num_qubits)  # the real mixer is defined later\n",
    "\n",
    "cost_layer = QAOAAnsatz(\n",
    "    cost_operator,\n",
    "    reps=1,\n",
    "    initial_state=dummy_initial_state,\n",
    "    mixer_operator=dummy_mixer_operator,\n",
    "    name=\"QAOA cost block\",\n",
    ")\n",
    "\n"
   ]
  },
  {
   "cell_type": "code",
   "execution_count": null,
   "id": "3388f204-452b-4eb8-85a2-1592217d1051",
   "metadata": {
    "scrolled": true
   },
   "outputs": [],
   "source": [
    "### Write your code below here ###\n",
    "\n",
    "pm_ex6 = \n",
    "\n",
    "\n",
    "### Don't change any code past this line ###\n",
    "\n",
    "circuit = pm_ex6.run(cost_layer,callback=callback_func)\n",
    "\n",
    "# Output various metrics about the transpiled circuit\n",
    "print(f'Count Ops: {circuit.count_ops()}')\n",
    "print(f'Total circuit depth: {circuit.depth()}')\n",
    "print(f'Number of 2-qubit gates: {circuit.size(lambda x: x.operation.num_qubits == 2)}')\n",
    "\n",
    "# Output the score and depth specifically for 2-qubit gates, in color\n",
    "print(Fore.MAGENTA + Style.BRIGHT + f'2-qubit gate depth: {circuit.depth(lambda x: x.operation.num_qubits == 2)}')\n",
    "print(Fore.GREEN + f'Score: {score_func(circuit)}')"
   ]
  },
  {
   "cell_type": "code",
   "execution_count": null,
   "id": "e8800742-3e7f-45ad-ba02-9431c1627316",
   "metadata": {},
   "outputs": [],
   "source": [
    "# Run this cell to grade your answer\n",
    "grade_ex6(pm_ex6, backend)"
   ]
  },
  {
   "cell_type": "markdown",
   "id": "d4f17696-826d-4fa6-a56e-28496a3508a0",
   "metadata": {},
   "source": [
    "# Additional information\n",
    "\n",
    "**Created by:** Elena Peña Tapia, Junye Huang, Vishal Sharathchandra Bajpe\n",
    "\n",
    "**Advised by:** Abby Mitchel, Ali Javadi, Alexander Ivrii, Bryce Fuller, Matthew Trenish,  Shelly Garion\n",
    "\n",
    "**Version:** 1.0.0"
   ]
  }
 ],
 "metadata": {
  "kernelspec": {
   "display_name": "Python 3 (ipykernel)",
   "language": "python",
   "name": "python3"
  },
  "language_info": {
   "codemirror_mode": {
    "name": "ipython",
    "version": 3
   },
   "file_extension": ".py",
   "mimetype": "text/x-python",
   "name": "python",
   "nbconvert_exporter": "python",
   "pygments_lexer": "ipython3",
   "version": "3.11.9"
  }
 },
 "nbformat": 4,
 "nbformat_minor": 5
}
